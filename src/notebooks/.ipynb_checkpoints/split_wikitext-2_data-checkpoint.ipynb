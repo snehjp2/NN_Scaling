{
 "cells": [
  {
   "cell_type": "code",
   "execution_count": 22,
   "id": "72f290ae",
   "metadata": {},
   "outputs": [],
   "source": [
    "import random\n",
    "from random import sample"
   ]
  },
  {
   "cell_type": "code",
   "execution_count": 61,
   "id": "8de54c38",
   "metadata": {},
   "outputs": [
    {
     "name": "stdout",
     "output_type": "stream",
     "text": [
      "Number of words in train file : 845454\n",
      "Number of words in test file : 74909\n",
      "Number of words in valid file : 67021\n",
      "Total number of words: 987384\n"
     ]
    }
   ],
   "source": [
    "train = open(\"/Users/snehpandya/Projects/awd-lstm-lm/data/pennchar/train.txt\", \"rt\")\n",
    "test = open(\"/Users/snehpandya/Projects/awd-lstm-lm/data/pennchar/test.txt\", \"rt\")\n",
    "val = open(\"/Users/snehpandya/Projects/awd-lstm-lm/data/pennchar/valid.txt\", \"rt\")\n",
    "train_set, test_set, val_set = train.read(), test.read(), val.read()\n",
    "train, test, valid = train_set.split('_'), test_set.split('_'), val_set.split('_')\n",
    "\n",
    "print('Number of words in train file :', len(train))\n",
    "print('Number of words in test file :', len(test))\n",
    "print('Number of words in valid file :', len(valid))\n",
    "print('Total number of words:', len(train) + len(test) + len(valid))"
   ]
  },
  {
   "cell_type": "code",
   "execution_count": 49,
   "id": "9b24f25f",
   "metadata": {},
   "outputs": [],
   "source": [
    "def subset_text(path,k):\n",
    "    with open(path, 'r') as file:\n",
    "        allText = file.read()\n",
    "        words = list(map(str, allText.split('_')))\n",
    "        subset_size = int(2**(-k)*len(words))\n",
    "        subset_words = sample(words,subset_size)\n",
    "        print(subset_size)\n",
    "    textfile = open(\"train_k=\" + str(k) + \".txt\", \"w\")\n",
    "    for element in subset_words:\n",
    "        textfile.write(element + \"_\")\n",
    "    textfile.close()"
   ]
  },
  {
   "cell_type": "code",
   "execution_count": 55,
   "id": "66429dcc",
   "metadata": {},
   "outputs": [
    {
     "name": "stdout",
     "output_type": "stream",
     "text": [
      "26420\n"
     ]
    }
   ],
   "source": [
    "# subset_text(\"/Users/snehpandya/Projects/awd-lstm-lm/data/pennchar/train.txt\",5)"
   ]
  }
 ],
 "metadata": {
  "kernelspec": {
   "display_name": "venv-ml",
   "language": "python",
   "name": "venv-ml"
  },
  "language_info": {
   "codemirror_mode": {
    "name": "ipython",
    "version": 3
   },
   "file_extension": ".py",
   "mimetype": "text/x-python",
   "name": "python",
   "nbconvert_exporter": "python",
   "pygments_lexer": "ipython3",
   "version": "3.8.9"
  }
 },
 "nbformat": 4,
 "nbformat_minor": 5
}
