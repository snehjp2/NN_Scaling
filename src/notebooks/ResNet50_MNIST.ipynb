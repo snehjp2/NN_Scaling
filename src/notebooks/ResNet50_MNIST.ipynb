{
 "cells": [
  {
   "cell_type": "markdown",
   "id": "7150cc62",
   "metadata": {},
   "source": [
    "## Importing Packages"
   ]
  },
  {
   "cell_type": "code",
   "execution_count": 1,
   "id": "77e0db93",
   "metadata": {},
   "outputs": [
    {
     "name": "stderr",
     "output_type": "stream",
     "text": [
      "/Users/snehpandya/venv-ml/lib/python3.8/site-packages/setuptools/distutils_patch.py:25: UserWarning: Distutils was imported before Setuptools. This usage is discouraged and may exhibit undesirable behaviors or errors. Please use Setuptools' objects directly or at least import Setuptools first.\n",
      "  warnings.warn(\n",
      "/Users/snehpandya/venv-ml/lib/python3.8/site-packages/torchvision/io/image.py:11: UserWarning: Failed to load image Python extension: \n",
      "  warn(f\"Failed to load image Python extension: {e}\")\n"
     ]
    }
   ],
   "source": [
    "import torch\n",
    "import os\n",
    "import setuptools\n",
    "import torch.nn as nn\n",
    "from torch.nn import Linear, Conv2d, CrossEntropyLoss\n",
    "from torch.optim import AdamW, Adam, SGD, RMSprop\n",
    "from torch.utils.data import Dataset, DataLoader, TensorDataset, ConcatDataset\n",
    "from torchvision import transforms\n",
    "from torchvision.datasets import MNIST\n",
    "import pytorch_lightning as pl\n",
    "import numpy as np\n",
    "from tqdm.autonotebook import tqdm\n",
    "from sklearn.metrics import classification_report\n",
    "import warnings\n",
    "from IPython.display import Image\n",
    "warnings.filterwarnings(action='once')\n",
    "from sklearn.model_selection import train_test_split\n",
    "import matplotlib.pyplot as plt\n",
    "from torchsummary import summary\n",
    "from skmultilearn.model_selection import iterative_train_test_split\n",
    "from pytorch_lightning.loggers import TensorBoardLogger"
   ]
  },
  {
   "cell_type": "markdown",
   "id": "d8104ac2",
   "metadata": {},
   "source": [
    "# Random Intro Stuff"
   ]
  },
  {
   "cell_type": "code",
   "execution_count": 2,
   "id": "b45ff7bf",
   "metadata": {},
   "outputs": [],
   "source": [
    "warnings.filterwarnings('ignore')"
   ]
  },
  {
   "cell_type": "code",
   "execution_count": 3,
   "id": "1c239fa4",
   "metadata": {},
   "outputs": [
    {
     "data": {
      "text/plain": [
       "<torch._C.Generator at 0x104912cd0>"
      ]
     },
     "execution_count": 3,
     "metadata": {},
     "output_type": "execute_result"
    }
   ],
   "source": [
    "torch.manual_seed(0)"
   ]
  },
  {
   "cell_type": "code",
   "execution_count": 4,
   "id": "77681121",
   "metadata": {},
   "outputs": [],
   "source": [
    "logger = TensorBoardLogger ('tb_logs', name='my_model_run_ name')"
   ]
  },
  {
   "cell_type": "code",
   "execution_count": 5,
   "id": "0efeab48",
   "metadata": {},
   "outputs": [
    {
     "name": "stdout",
     "output_type": "stream",
     "text": [
      "Using cpu for inference\n"
     ]
    }
   ],
   "source": [
    "device = torch.device(\"cuda\") if torch.cuda.is_available() else torch.device(\"cpu\")\n",
    "print(f'Using {device} for inference')"
   ]
  },
  {
   "cell_type": "code",
   "execution_count": 6,
   "id": "93eac9aa",
   "metadata": {},
   "outputs": [],
   "source": [
    "# Helper function to subset data\n",
    "def subset_data(dataset,k): \n",
    "    subset = torch.utils.data.Subset(dataset, range(0, int(2**(-k)*(len(dataset)))))\n",
    "    return subset\n",
    "\n",
    "# Helper function to see distribution of data subset\n",
    "def analyze_subset(dataset):\n",
    "    labels = []\n",
    "    counts = {}\n",
    "    for i in range(0,len(dataset)):\n",
    "        labels.append(dataset[i][1])\n",
    "\n",
    "    for i in range(0,10):\n",
    "        counts[i] = labels.count(i)\n",
    "    plt.bar(counts.keys(), counts.values(), tick_label=range(0,10))\n",
    "    plt.xlabel('Integers')\n",
    "    plt.ylabel('Frequency')\n",
    "    plt.title(f'Total # of Digits: {len(dataset)}')\n",
    "    \n",
    "# return number of total trainable parameters for model\n",
    "def count_parameters(model):\n",
    "    return sum(p.numel() for p in model.parameters() if p.requires_grad)\n",
    "\n",
    "# this is a very dirty way of combining the datasets ¯\\_(ツ)_/¯\n",
    "def combine_dataset(train_ds, test_ds):\n",
    "    transform = transforms.Compose([transforms.ToTensor()])\n",
    "#     X_train_1, X_test_1, Y_train_1, Y_test_1 = train_test_split(train_ds.data, train_ds.targets, stratify=train_ds.targets)\n",
    "#     X_train_2, X_test_2, Y_train_2, Y_test_2 = train_test_split(test_ds.data, test_ds.targets, stratify=test_ds.targets)\n",
    "\n",
    "\n",
    "#     subset_X_train = torch.cat((X_train_1, X_train_2),dim=0)\n",
    "#     subset_Y_train = torch.cat((Y_train_1, Y_train_2),dim=0)\n",
    "#     subset_X_test = torch.cat((X_test_1, X_test_2),dim=0)\n",
    "#     subset_Y_test = torch.cat((Y_test_1, Y_test_2),dim=0)\n",
    "\n",
    "#     subset_X = torch.cat((subset_X_train, subset_X_test))\n",
    "#     subset_Y = torch.cat((subset_Y_train, subset_Y_test))\n",
    "\n",
    "    full_train_ds = ConcatDataset([train_ds, test_ds])\n",
    "    return full_train_ds"
   ]
  },
  {
   "cell_type": "markdown",
   "id": "f0e6a94b",
   "metadata": {},
   "source": [
    "## Downloading MNIST Data"
   ]
  },
  {
   "cell_type": "code",
   "execution_count": 7,
   "id": "18cba07f",
   "metadata": {},
   "outputs": [],
   "source": [
    "train_ds = MNIST(\"mnist\", train=True, download=True, transform=transforms.Compose([transforms.ToTensor()])) # size = ([60000, 28, 28], [60000])\n",
    "test_ds = MNIST(\"mnist\", train=False, download=True, transform=transforms.Compose([transforms.ToTensor()])) # size = ([10000, 28, 28], [10000])"
   ]
  },
  {
   "cell_type": "markdown",
   "id": "b32b79dc",
   "metadata": {},
   "source": [
    "## Subsetting Data + Defining Dataloaders"
   ]
  },
  {
   "cell_type": "code",
   "execution_count": 8,
   "id": "59670769",
   "metadata": {},
   "outputs": [
    {
     "data": {
      "image/png": "[encoded data removed]",
      "text/plain": [
       "<Figure size 432x288 with 1 Axes>"
      ]
     },
     "metadata": {
      "needs_background": "light"
     },
     "output_type": "display_data"
    }
   ],
   "source": [
    "full_train_ds = combine_dataset(train_ds, test_ds)\n",
    "analyze_subset(full_train_ds)\n",
    "# analyze_subset(train_ds)\n",
    "# analyze_subset(test_ds)"
   ]
  },
  {
   "cell_type": "code",
   "execution_count": 9,
   "id": "6f8ac581",
   "metadata": {},
   "outputs": [
    {
     "data": {
      "image/png": "[encoded data removed]",
      "text/plain": [
       "<Figure size 432x288 with 1 Axes>"
      ]
     },
     "metadata": {
      "needs_background": "light"
     },
     "output_type": "display_data"
    }
   ],
   "source": [
    "subset_ds = subset_data(full_train_ds,0)\n",
    "analyze_subset(subset_ds)"
   ]
  },
  {
   "cell_type": "code",
   "execution_count": 10,
   "id": "1f320749",
   "metadata": {},
   "outputs": [],
   "source": [
    "train_dl = DataLoader(train_ds, batch_size=16, num_workers=10) # size = 157\n",
    "full_train_dl = DataLoader(full_train_ds, batch_size=16, num_workers=10) # size = 157\n",
    "subset_dl = DataLoader(subset_ds, batch_size=16, shuffle=True, num_workers=10)"
   ]
  },
  {
   "cell_type": "markdown",
   "id": "eb1c375a",
   "metadata": {},
   "source": [
    "## Defining ResNets + Training Loops"
   ]
  },
  {
   "cell_type": "code",
   "execution_count": 15,
   "id": "819beb19",
   "metadata": {},
   "outputs": [],
   "source": [
    "class ResNet50(pl.LightningModule):\n",
    "  def __init__(self):\n",
    "    super().__init__()\n",
    "    self.model = torch.hub.load('pytorch/vision:v0.10.0', 'resnet50', pretrained=True)\n",
    "    self.model.fc = Linear(in_features=2048, out_features=10)\n",
    "    self.model.conv1 = Conv2d(1, 64, kernel_size=(7, 7), stride=(2, 2), padding=(3, 3), bias=False)\n",
    "    self.loss = CrossEntropyLoss()\n",
    "    self.epoch = self.current_epoch\n",
    "\n",
    "  def forward(self, x):\n",
    "    return self.model(x)\n",
    "\n",
    "  def training_step(self, batch, batch_no):\n",
    "    x, y = batch\n",
    "    logits = self(x)\n",
    "    loss = self.loss(logits, y)\n",
    "    logs={\"train_loss:\", loss}\n",
    "    batch_dictionary={\n",
    "            \"loss\": loss,\n",
    "            \"log\": logs,\n",
    "        }\n",
    "    return batch_dictionary\n",
    "\n",
    "  def training_epoch_end(self,outputs):\n",
    "        avg_loss = torch.stack([x['loss'] for x in outputs]).mean()\n",
    "        self.logger.experiment.add_scalar(\"Train_Loss/Epoch\", avg_loss, self.current_epoch)\n",
    "        epoch_dictionary={'loss': avg_loss}\n",
    "#         return epoch_dictionary\n",
    "\n",
    "\n",
    "  def configure_optimizers(self):\n",
    "    return SGD(self.parameters(), lr=0.1, momentum=0.9, weight_decay=1e-4)"
   ]
  },
  {
   "cell_type": "code",
   "execution_count": 16,
   "id": "7a2dfa3d",
   "metadata": {},
   "outputs": [
    {
     "name": "stderr",
     "output_type": "stream",
     "text": [
      "Using cache found in /Users/snehpandya/.cache/torch/hub/pytorch_vision_v0.10.0\n"
     ]
    },
    {
     "name": "stdout",
     "output_type": "stream",
     "text": [
      "----------------------------------------------------------------\n",
      "        Layer (type)               Output Shape         Param #\n",
      "================================================================\n",
      "            Conv2d-1           [-1, 64, 12, 12]           3,136\n",
      "       BatchNorm2d-2           [-1, 64, 12, 12]             128\n",
      "              ReLU-3           [-1, 64, 12, 12]               0\n",
      "         MaxPool2d-4             [-1, 64, 6, 6]               0\n",
      "            Conv2d-5             [-1, 64, 6, 6]           4,096\n",
      "       BatchNorm2d-6             [-1, 64, 6, 6]             128\n",
      "              ReLU-7             [-1, 64, 6, 6]               0\n",
      "            Conv2d-8             [-1, 64, 6, 6]          36,864\n",
      "       BatchNorm2d-9             [-1, 64, 6, 6]             128\n",
      "             ReLU-10             [-1, 64, 6, 6]               0\n",
      "           Conv2d-11            [-1, 256, 6, 6]          16,384\n",
      "      BatchNorm2d-12            [-1, 256, 6, 6]             512\n",
      "           Conv2d-13            [-1, 256, 6, 6]          16,384\n",
      "      BatchNorm2d-14            [-1, 256, 6, 6]             512\n",
      "             ReLU-15            [-1, 256, 6, 6]               0\n",
      "       Bottleneck-16            [-1, 256, 6, 6]               0\n",
      "           Conv2d-17             [-1, 64, 6, 6]          16,384\n",
      "      BatchNorm2d-18             [-1, 64, 6, 6]             128\n",
      "             ReLU-19             [-1, 64, 6, 6]               0\n",
      "           Conv2d-20             [-1, 64, 6, 6]          36,864\n",
      "      BatchNorm2d-21             [-1, 64, 6, 6]             128\n",
      "             ReLU-22             [-1, 64, 6, 6]               0\n",
      "           Conv2d-23            [-1, 256, 6, 6]          16,384\n",
      "      BatchNorm2d-24            [-1, 256, 6, 6]             512\n",
      "             ReLU-25            [-1, 256, 6, 6]               0\n",
      "       Bottleneck-26            [-1, 256, 6, 6]               0\n",
      "           Conv2d-27             [-1, 64, 6, 6]          16,384\n",
      "      BatchNorm2d-28             [-1, 64, 6, 6]             128\n",
      "             ReLU-29             [-1, 64, 6, 6]               0\n",
      "           Conv2d-30             [-1, 64, 6, 6]          36,864\n",
      "      BatchNorm2d-31             [-1, 64, 6, 6]             128\n",
      "             ReLU-32             [-1, 64, 6, 6]               0\n",
      "           Conv2d-33            [-1, 256, 6, 6]          16,384\n",
      "      BatchNorm2d-34            [-1, 256, 6, 6]             512\n",
      "             ReLU-35            [-1, 256, 6, 6]               0\n",
      "       Bottleneck-36            [-1, 256, 6, 6]               0\n",
      "           Conv2d-37            [-1, 128, 6, 6]          32,768\n",
      "      BatchNorm2d-38            [-1, 128, 6, 6]             256\n",
      "             ReLU-39            [-1, 128, 6, 6]               0\n",
      "           Conv2d-40            [-1, 128, 3, 3]         147,456\n",
      "      BatchNorm2d-41            [-1, 128, 3, 3]             256\n",
      "             ReLU-42            [-1, 128, 3, 3]               0\n",
      "           Conv2d-43            [-1, 512, 3, 3]          65,536\n",
      "      BatchNorm2d-44            [-1, 512, 3, 3]           1,024\n",
      "           Conv2d-45            [-1, 512, 3, 3]         131,072\n",
      "      BatchNorm2d-46            [-1, 512, 3, 3]           1,024\n",
      "             ReLU-47            [-1, 512, 3, 3]               0\n",
      "       Bottleneck-48            [-1, 512, 3, 3]               0\n",
      "           Conv2d-49            [-1, 128, 3, 3]          65,536\n",
      "      BatchNorm2d-50            [-1, 128, 3, 3]             256\n",
      "             ReLU-51            [-1, 128, 3, 3]               0\n",
      "           Conv2d-52            [-1, 128, 3, 3]         147,456\n",
      "      BatchNorm2d-53            [-1, 128, 3, 3]             256\n",
      "             ReLU-54            [-1, 128, 3, 3]               0\n",
      "           Conv2d-55            [-1, 512, 3, 3]          65,536\n",
      "      BatchNorm2d-56            [-1, 512, 3, 3]           1,024\n",
      "             ReLU-57            [-1, 512, 3, 3]               0\n",
      "       Bottleneck-58            [-1, 512, 3, 3]               0\n",
      "           Conv2d-59            [-1, 128, 3, 3]          65,536\n",
      "      BatchNorm2d-60            [-1, 128, 3, 3]             256\n",
      "             ReLU-61            [-1, 128, 3, 3]               0\n",
      "           Conv2d-62            [-1, 128, 3, 3]         147,456\n",
      "      BatchNorm2d-63            [-1, 128, 3, 3]             256\n",
      "             ReLU-64            [-1, 128, 3, 3]               0\n",
      "           Conv2d-65            [-1, 512, 3, 3]          65,536\n",
      "      BatchNorm2d-66            [-1, 512, 3, 3]           1,024\n",
      "             ReLU-67            [-1, 512, 3, 3]               0\n",
      "       Bottleneck-68            [-1, 512, 3, 3]               0\n",
      "           Conv2d-69            [-1, 128, 3, 3]          65,536\n",
      "      BatchNorm2d-70            [-1, 128, 3, 3]             256\n",
      "             ReLU-71            [-1, 128, 3, 3]               0\n",
      "           Conv2d-72            [-1, 128, 3, 3]         147,456\n",
      "      BatchNorm2d-73            [-1, 128, 3, 3]             256\n",
      "             ReLU-74            [-1, 128, 3, 3]               0\n",
      "           Conv2d-75            [-1, 512, 3, 3]          65,536\n",
      "      BatchNorm2d-76            [-1, 512, 3, 3]           1,024\n",
      "             ReLU-77            [-1, 512, 3, 3]               0\n",
      "       Bottleneck-78            [-1, 512, 3, 3]               0\n",
      "           Conv2d-79            [-1, 256, 3, 3]         131,072\n",
      "      BatchNorm2d-80            [-1, 256, 3, 3]             512\n",
      "             ReLU-81            [-1, 256, 3, 3]               0\n",
      "           Conv2d-82            [-1, 256, 2, 2]         589,824\n",
      "      BatchNorm2d-83            [-1, 256, 2, 2]             512\n",
      "             ReLU-84            [-1, 256, 2, 2]               0\n",
      "           Conv2d-85           [-1, 1024, 2, 2]         262,144\n",
      "      BatchNorm2d-86           [-1, 1024, 2, 2]           2,048\n",
      "           Conv2d-87           [-1, 1024, 2, 2]         524,288\n",
      "      BatchNorm2d-88           [-1, 1024, 2, 2]           2,048\n",
      "             ReLU-89           [-1, 1024, 2, 2]               0\n",
      "       Bottleneck-90           [-1, 1024, 2, 2]               0\n",
      "           Conv2d-91            [-1, 256, 2, 2]         262,144\n",
      "      BatchNorm2d-92            [-1, 256, 2, 2]             512\n",
      "             ReLU-93            [-1, 256, 2, 2]               0\n",
      "           Conv2d-94            [-1, 256, 2, 2]         589,824\n",
      "      BatchNorm2d-95            [-1, 256, 2, 2]             512\n",
      "             ReLU-96            [-1, 256, 2, 2]               0\n",
      "           Conv2d-97           [-1, 1024, 2, 2]         262,144\n",
      "      BatchNorm2d-98           [-1, 1024, 2, 2]           2,048\n",
      "             ReLU-99           [-1, 1024, 2, 2]               0\n",
      "      Bottleneck-100           [-1, 1024, 2, 2]               0\n",
      "          Conv2d-101            [-1, 256, 2, 2]         262,144\n",
      "     BatchNorm2d-102            [-1, 256, 2, 2]             512\n",
      "            ReLU-103            [-1, 256, 2, 2]               0\n",
      "          Conv2d-104            [-1, 256, 2, 2]         589,824\n",
      "     BatchNorm2d-105            [-1, 256, 2, 2]             512\n",
      "            ReLU-106            [-1, 256, 2, 2]               0\n",
      "          Conv2d-107           [-1, 1024, 2, 2]         262,144\n",
      "     BatchNorm2d-108           [-1, 1024, 2, 2]           2,048\n",
      "            ReLU-109           [-1, 1024, 2, 2]               0\n",
      "      Bottleneck-110           [-1, 1024, 2, 2]               0\n",
      "          Conv2d-111            [-1, 256, 2, 2]         262,144\n",
      "     BatchNorm2d-112            [-1, 256, 2, 2]             512\n",
      "            ReLU-113            [-1, 256, 2, 2]               0\n",
      "          Conv2d-114            [-1, 256, 2, 2]         589,824\n",
      "     BatchNorm2d-115            [-1, 256, 2, 2]             512\n",
      "            ReLU-116            [-1, 256, 2, 2]               0\n",
      "          Conv2d-117           [-1, 1024, 2, 2]         262,144\n",
      "     BatchNorm2d-118           [-1, 1024, 2, 2]           2,048\n",
      "            ReLU-119           [-1, 1024, 2, 2]               0\n",
      "      Bottleneck-120           [-1, 1024, 2, 2]               0\n",
      "          Conv2d-121            [-1, 256, 2, 2]         262,144\n",
      "     BatchNorm2d-122            [-1, 256, 2, 2]             512\n",
      "            ReLU-123            [-1, 256, 2, 2]               0\n",
      "          Conv2d-124            [-1, 256, 2, 2]         589,824\n",
      "     BatchNorm2d-125            [-1, 256, 2, 2]             512\n",
      "            ReLU-126            [-1, 256, 2, 2]               0\n",
      "          Conv2d-127           [-1, 1024, 2, 2]         262,144\n",
      "     BatchNorm2d-128           [-1, 1024, 2, 2]           2,048\n",
      "            ReLU-129           [-1, 1024, 2, 2]               0\n",
      "      Bottleneck-130           [-1, 1024, 2, 2]               0\n",
      "          Conv2d-131            [-1, 256, 2, 2]         262,144\n",
      "     BatchNorm2d-132            [-1, 256, 2, 2]             512\n",
      "            ReLU-133            [-1, 256, 2, 2]               0\n",
      "          Conv2d-134            [-1, 256, 2, 2]         589,824\n",
      "     BatchNorm2d-135            [-1, 256, 2, 2]             512\n",
      "            ReLU-136            [-1, 256, 2, 2]               0\n",
      "          Conv2d-137           [-1, 1024, 2, 2]         262,144\n",
      "     BatchNorm2d-138           [-1, 1024, 2, 2]           2,048\n",
      "            ReLU-139           [-1, 1024, 2, 2]               0\n",
      "      Bottleneck-140           [-1, 1024, 2, 2]               0\n",
      "          Conv2d-141            [-1, 512, 2, 2]         524,288\n",
      "     BatchNorm2d-142            [-1, 512, 2, 2]           1,024\n",
      "            ReLU-143            [-1, 512, 2, 2]               0\n",
      "          Conv2d-144            [-1, 512, 1, 1]       2,359,296\n",
      "     BatchNorm2d-145            [-1, 512, 1, 1]           1,024\n",
      "            ReLU-146            [-1, 512, 1, 1]               0\n",
      "          Conv2d-147           [-1, 2048, 1, 1]       1,048,576\n",
      "     BatchNorm2d-148           [-1, 2048, 1, 1]           4,096\n",
      "          Conv2d-149           [-1, 2048, 1, 1]       2,097,152\n",
      "     BatchNorm2d-150           [-1, 2048, 1, 1]           4,096\n",
      "            ReLU-151           [-1, 2048, 1, 1]               0\n",
      "      Bottleneck-152           [-1, 2048, 1, 1]               0\n",
      "          Conv2d-153            [-1, 512, 1, 1]       1,048,576\n",
      "     BatchNorm2d-154            [-1, 512, 1, 1]           1,024\n",
      "            ReLU-155            [-1, 512, 1, 1]               0\n",
      "          Conv2d-156            [-1, 512, 1, 1]       2,359,296\n",
      "     BatchNorm2d-157            [-1, 512, 1, 1]           1,024\n",
      "            ReLU-158            [-1, 512, 1, 1]               0\n",
      "          Conv2d-159           [-1, 2048, 1, 1]       1,048,576\n",
      "     BatchNorm2d-160           [-1, 2048, 1, 1]           4,096\n",
      "            ReLU-161           [-1, 2048, 1, 1]               0\n",
      "      Bottleneck-162           [-1, 2048, 1, 1]               0\n",
      "          Conv2d-163            [-1, 512, 1, 1]       1,048,576\n",
      "     BatchNorm2d-164            [-1, 512, 1, 1]           1,024\n",
      "            ReLU-165            [-1, 512, 1, 1]               0\n",
      "          Conv2d-166            [-1, 512, 1, 1]       2,359,296\n",
      "     BatchNorm2d-167            [-1, 512, 1, 1]           1,024\n",
      "            ReLU-168            [-1, 512, 1, 1]               0\n",
      "          Conv2d-169           [-1, 2048, 1, 1]       1,048,576\n",
      "     BatchNorm2d-170           [-1, 2048, 1, 1]           4,096\n",
      "            ReLU-171           [-1, 2048, 1, 1]               0\n",
      "      Bottleneck-172           [-1, 2048, 1, 1]               0\n",
      "AdaptiveAvgPool2d-173           [-1, 2048, 1, 1]               0\n",
      "          Linear-174                   [-1, 10]          20,490\n",
      "          ResNet-175                   [-1, 10]               0\n",
      "================================================================\n",
      "Total params: 23,522,250\n",
      "Trainable params: 23,522,250\n",
      "Non-trainable params: 0\n",
      "----------------------------------------------------------------\n",
      "Input size (MB): 0.00\n",
      "Forward/backward pass size (MB): 3.92\n",
      "Params size (MB): 89.73\n",
      "Estimated Total Size (MB): 93.65\n",
      "----------------------------------------------------------------\n"
     ]
    }
   ],
   "source": [
    "model = ResNet50()\n",
    "summary(model, [(1, 24, 24)])"
   ]
  },
  {
   "cell_type": "code",
   "execution_count": 103,
   "id": "f06d33de",
   "metadata": {},
   "outputs": [],
   "source": [
    "# for (name, layer) in model._modules.items():\n",
    "#     print((name, layer))\n",
    "           \n",
    "# for name, param in model.named_parameters(): \n",
    "#     print(int(.5*param.shape[0]))"
   ]
  },
  {
   "cell_type": "code",
   "execution_count": 104,
   "id": "e3bda34a",
   "metadata": {},
   "outputs": [],
   "source": [
    "# model2 = torch.hub.load('pytorch/vision:v0.10.0', 'resnet50', pretrained=True)\n",
    "# model2.layer1[0].conv1.in_channels\n",
    "# # model2.fc.in_features"
   ]
  },
  {
   "cell_type": "code",
   "execution_count": 105,
   "id": "efddf122",
   "metadata": {},
   "outputs": [
    {
     "name": "stderr",
     "output_type": "stream",
     "text": [
      "GPU available: False, used: False\n",
      "TPU available: False, using: 0 TPU cores\n",
      "IPU available: False, using: 0 IPUs\n",
      "\n",
      "  | Name  | Type             | Params\n",
      "-------------------------------------------\n",
      "0 | model | ResNet           | 23.5 M\n",
      "1 | loss  | CrossEntropyLoss | 0     \n",
      "-------------------------------------------\n",
      "23.5 M    Trainable params\n",
      "0         Non-trainable params\n",
      "23.5 M    Total params\n",
      "94.089    Total estimated model params size (MB)\n",
      "/Users/snehpandya/venv-ml/lib/python3.8/site-packages/pytorch_lightning/callbacks/model_checkpoint.py:631: UserWarning: Checkpoint directory tb_logs/my_model_run_ name/version_0/checkpoints exists and is not empty.\n",
      "  rank_zero_warn(f\"Checkpoint directory {dirpath} exists and is not empty.\")\n"
     ]
    },
    {
     "data": {
      "application/vnd.jupyter.widget-view+json": {
       "model_id": "b6cee1b49c804e1fab1cd4687baf1992",
       "version_major": 2,
       "version_minor": 0
      },
      "text/plain": [
       "Training: 0it [00:00, ?it/s]"
      ]
     },
     "metadata": {},
     "output_type": "display_data"
    },
    {
     "name": "stderr",
     "output_type": "stream",
     "text": [
      "/Users/snehpandya/venv-ml/lib/python3.8/site-packages/torchvision/io/image.py:11: UserWarning: Failed to load image Python extension: \n",
      "  warn(f\"Failed to load image Python extension: {e}\")\n",
      "/Users/snehpandya/venv-ml/lib/python3.8/site-packages/torchvision/io/image.py:11: UserWarning: Failed to load image Python extension: \n",
      "  warn(f\"Failed to load image Python extension: {e}\")\n",
      "/Users/snehpandya/venv-ml/lib/python3.8/site-packages/torchvision/io/image.py:11: UserWarning: Failed to load image Python extension: \n",
      "  warn(f\"Failed to load image Python extension: {e}\")\n",
      "/Users/snehpandya/venv-ml/lib/python3.8/site-packages/torchvision/io/image.py:11: UserWarning: Failed to load image Python extension: \n",
      "  warn(f\"Failed to load image Python extension: {e}\")\n",
      "/Users/snehpandya/venv-ml/lib/python3.8/site-packages/torchvision/io/image.py:11: UserWarning: Failed to load image Python extension: \n",
      "  warn(f\"Failed to load image Python extension: {e}\")\n",
      "/Users/snehpandya/venv-ml/lib/python3.8/site-packages/torchvision/io/image.py:11: UserWarning: Failed to load image Python extension: \n",
      "  warn(f\"Failed to load image Python extension: {e}\")\n",
      "/Users/snehpandya/venv-ml/lib/python3.8/site-packages/torchvision/io/image.py:11: UserWarning: Failed to load image Python extension: \n",
      "  warn(f\"Failed to load image Python extension: {e}\")\n",
      "/Users/snehpandya/venv-ml/lib/python3.8/site-packages/torchvision/io/image.py:11: UserWarning: Failed to load image Python extension: \n",
      "  warn(f\"Failed to load image Python extension: {e}\")\n",
      "/Users/snehpandya/venv-ml/lib/python3.8/site-packages/torchvision/io/image.py:11: UserWarning: Failed to load image Python extension: \n",
      "  warn(f\"Failed to load image Python extension: {e}\")\n",
      "/Users/snehpandya/venv-ml/lib/python3.8/site-packages/torchvision/io/image.py:11: UserWarning: Failed to load image Python extension: \n",
      "  warn(f\"Failed to load image Python extension: {e}\")\n",
      "/Users/snehpandya/venv-ml/lib/python3.8/site-packages/torchvision/io/image.py:11: UserWarning: Failed to load image Python extension: \n",
      "  warn(f\"Failed to load image Python extension: {e}\")\n",
      "/Users/snehpandya/venv-ml/lib/python3.8/site-packages/torchvision/io/image.py:11: UserWarning: Failed to load image Python extension: \n",
      "  warn(f\"Failed to load image Python extension: {e}\")\n",
      "/Users/snehpandya/venv-ml/lib/python3.8/site-packages/torchvision/io/image.py:11: UserWarning: Failed to load image Python extension: \n",
      "  warn(f\"Failed to load image Python extension: {e}\")\n",
      "/Users/snehpandya/venv-ml/lib/python3.8/site-packages/torchvision/io/image.py:11: UserWarning: Failed to load image Python extension: \n",
      "  warn(f\"Failed to load image Python extension: {e}\")\n",
      "/Users/snehpandya/venv-ml/lib/python3.8/site-packages/torchvision/io/image.py:11: UserWarning: Failed to load image Python extension: \n",
      "  warn(f\"Failed to load image Python extension: {e}\")\n",
      "/Users/snehpandya/venv-ml/lib/python3.8/site-packages/torchvision/io/image.py:11: UserWarning: Failed to load image Python extension: \n",
      "  warn(f\"Failed to load image Python extension: {e}\")\n",
      "/Users/snehpandya/venv-ml/lib/python3.8/site-packages/torchvision/io/image.py:11: UserWarning: Failed to load image Python extension: \n",
      "  warn(f\"Failed to load image Python extension: {e}\")\n",
      "/Users/snehpandya/venv-ml/lib/python3.8/site-packages/torchvision/io/image.py:11: UserWarning: Failed to load image Python extension: \n",
      "  warn(f\"Failed to load image Python extension: {e}\")\n",
      "/Users/snehpandya/venv-ml/lib/python3.8/site-packages/torchvision/io/image.py:11: UserWarning: Failed to load image Python extension: \n",
      "  warn(f\"Failed to load image Python extension: {e}\")\n",
      "/Users/snehpandya/venv-ml/lib/python3.8/site-packages/torchvision/io/image.py:11: UserWarning: Failed to load image Python extension: \n",
      "  warn(f\"Failed to load image Python extension: {e}\")\n",
      "/Users/snehpandya/venv-ml/lib/python3.8/site-packages/torchvision/io/image.py:11: UserWarning: Failed to load image Python extension: \n",
      "  warn(f\"Failed to load image Python extension: {e}\")\n",
      "/Users/snehpandya/venv-ml/lib/python3.8/site-packages/torchvision/io/image.py:11: UserWarning: Failed to load image Python extension: \n",
      "  warn(f\"Failed to load image Python extension: {e}\")\n",
      "/Users/snehpandya/venv-ml/lib/python3.8/site-packages/torchvision/io/image.py:11: UserWarning: Failed to load image Python extension: \n",
      "  warn(f\"Failed to load image Python extension: {e}\")\n",
      "/Users/snehpandya/venv-ml/lib/python3.8/site-packages/torchvision/io/image.py:11: UserWarning: Failed to load image Python extension: \n",
      "  warn(f\"Failed to load image Python extension: {e}\")\n",
      "/Users/snehpandya/venv-ml/lib/python3.8/site-packages/torchvision/io/image.py:11: UserWarning: Failed to load image Python extension: \n",
      "  warn(f\"Failed to load image Python extension: {e}\")\n",
      "/Users/snehpandya/venv-ml/lib/python3.8/site-packages/torchvision/io/image.py:11: UserWarning: Failed to load image Python extension: \n",
      "  warn(f\"Failed to load image Python extension: {e}\")\n",
      "/Users/snehpandya/venv-ml/lib/python3.8/site-packages/torchvision/io/image.py:11: UserWarning: Failed to load image Python extension: \n",
      "  warn(f\"Failed to load image Python extension: {e}\")\n",
      "/Users/snehpandya/venv-ml/lib/python3.8/site-packages/torchvision/io/image.py:11: UserWarning: Failed to load image Python extension: \n",
      "  warn(f\"Failed to load image Python extension: {e}\")\n",
      "/Users/snehpandya/venv-ml/lib/python3.8/site-packages/torchvision/io/image.py:11: UserWarning: Failed to load image Python extension: \n",
      "  warn(f\"Failed to load image Python extension: {e}\")\n",
      "/Users/snehpandya/venv-ml/lib/python3.8/site-packages/torchvision/io/image.py:11: UserWarning: Failed to load image Python extension: \n",
      "  warn(f\"Failed to load image Python extension: {e}\")\n",
      "/Users/snehpandya/venv-ml/lib/python3.8/site-packages/torchvision/io/image.py:11: UserWarning: Failed to load image Python extension: \n",
      "  warn(f\"Failed to load image Python extension: {e}\")\n",
      "/Users/snehpandya/venv-ml/lib/python3.8/site-packages/torchvision/io/image.py:11: UserWarning: Failed to load image Python extension: \n",
      "  warn(f\"Failed to load image Python extension: {e}\")\n",
      "/Users/snehpandya/venv-ml/lib/python3.8/site-packages/torchvision/io/image.py:11: UserWarning: Failed to load image Python extension: \n",
      "  warn(f\"Failed to load image Python extension: {e}\")\n",
      "/Users/snehpandya/venv-ml/lib/python3.8/site-packages/torchvision/io/image.py:11: UserWarning: Failed to load image Python extension: \n",
      "  warn(f\"Failed to load image Python extension: {e}\")\n",
      "/Users/snehpandya/venv-ml/lib/python3.8/site-packages/torchvision/io/image.py:11: UserWarning: Failed to load image Python extension: \n",
      "  warn(f\"Failed to load image Python extension: {e}\")\n",
      "/Users/snehpandya/venv-ml/lib/python3.8/site-packages/torchvision/io/image.py:11: UserWarning: Failed to load image Python extension: \n",
      "  warn(f\"Failed to load image Python extension: {e}\")\n",
      "/Users/snehpandya/venv-ml/lib/python3.8/site-packages/torchvision/io/image.py:11: UserWarning: Failed to load image Python extension: \n",
      "  warn(f\"Failed to load image Python extension: {e}\")\n",
      "/Users/snehpandya/venv-ml/lib/python3.8/site-packages/torchvision/io/image.py:11: UserWarning: Failed to load image Python extension: \n",
      "  warn(f\"Failed to load image Python extension: {e}\")\n",
      "/Users/snehpandya/venv-ml/lib/python3.8/site-packages/torchvision/io/image.py:11: UserWarning: Failed to load image Python extension: \n",
      "  warn(f\"Failed to load image Python extension: {e}\")\n",
      "/Users/snehpandya/venv-ml/lib/python3.8/site-packages/torchvision/io/image.py:11: UserWarning: Failed to load image Python extension: \n",
      "  warn(f\"Failed to load image Python extension: {e}\")\n",
      "/Users/snehpandya/venv-ml/lib/python3.8/site-packages/torchvision/io/image.py:11: UserWarning: Failed to load image Python extension: \n",
      "  warn(f\"Failed to load image Python extension: {e}\")\n",
      "/Users/snehpandya/venv-ml/lib/python3.8/site-packages/torchvision/io/image.py:11: UserWarning: Failed to load image Python extension: \n",
      "  warn(f\"Failed to load image Python extension: {e}\")\n",
      "/Users/snehpandya/venv-ml/lib/python3.8/site-packages/torchvision/io/image.py:11: UserWarning: Failed to load image Python extension: \n",
      "  warn(f\"Failed to load image Python extension: {e}\")\n",
      "/Users/snehpandya/venv-ml/lib/python3.8/site-packages/torchvision/io/image.py:11: UserWarning: Failed to load image Python extension: \n",
      "  warn(f\"Failed to load image Python extension: {e}\")\n",
      "/Users/snehpandya/venv-ml/lib/python3.8/site-packages/torchvision/io/image.py:11: UserWarning: Failed to load image Python extension: \n",
      "  warn(f\"Failed to load image Python extension: {e}\")\n",
      "/Users/snehpandya/venv-ml/lib/python3.8/site-packages/torchvision/io/image.py:11: UserWarning: Failed to load image Python extension: \n",
      "  warn(f\"Failed to load image Python extension: {e}\")\n",
      "/Users/snehpandya/venv-ml/lib/python3.8/site-packages/torchvision/io/image.py:11: UserWarning: Failed to load image Python extension: \n",
      "  warn(f\"Failed to load image Python extension: {e}\")\n",
      "/Users/snehpandya/venv-ml/lib/python3.8/site-packages/torchvision/io/image.py:11: UserWarning: Failed to load image Python extension: \n",
      "  warn(f\"Failed to load image Python extension: {e}\")\n",
      "/Users/snehpandya/venv-ml/lib/python3.8/site-packages/torchvision/io/image.py:11: UserWarning: Failed to load image Python extension: \n",
      "  warn(f\"Failed to load image Python extension: {e}\")\n",
      "/Users/snehpandya/venv-ml/lib/python3.8/site-packages/torchvision/io/image.py:11: UserWarning: Failed to load image Python extension: \n",
      "  warn(f\"Failed to load image Python extension: {e}\")\n"
     ]
    },
    {
     "name": "stderr",
     "output_type": "stream",
     "text": [
      "/Users/snehpandya/venv-ml/lib/python3.8/site-packages/torchvision/io/image.py:11: UserWarning: Failed to load image Python extension: \n",
      "  warn(f\"Failed to load image Python extension: {e}\")\n",
      "/Users/snehpandya/venv-ml/lib/python3.8/site-packages/torchvision/io/image.py:11: UserWarning: Failed to load image Python extension: \n",
      "  warn(f\"Failed to load image Python extension: {e}\")\n",
      "/Users/snehpandya/venv-ml/lib/python3.8/site-packages/torchvision/io/image.py:11: UserWarning: Failed to load image Python extension: \n",
      "  warn(f\"Failed to load image Python extension: {e}\")\n",
      "/Users/snehpandya/venv-ml/lib/python3.8/site-packages/torchvision/io/image.py:11: UserWarning: Failed to load image Python extension: \n",
      "  warn(f\"Failed to load image Python extension: {e}\")\n",
      "/Users/snehpandya/venv-ml/lib/python3.8/site-packages/torchvision/io/image.py:11: UserWarning: Failed to load image Python extension: \n",
      "  warn(f\"Failed to load image Python extension: {e}\")\n",
      "/Users/snehpandya/venv-ml/lib/python3.8/site-packages/torchvision/io/image.py:11: UserWarning: Failed to load image Python extension: \n",
      "  warn(f\"Failed to load image Python extension: {e}\")\n",
      "/Users/snehpandya/venv-ml/lib/python3.8/site-packages/torchvision/io/image.py:11: UserWarning: Failed to load image Python extension: \n",
      "  warn(f\"Failed to load image Python extension: {e}\")\n",
      "/Users/snehpandya/venv-ml/lib/python3.8/site-packages/torchvision/io/image.py:11: UserWarning: Failed to load image Python extension: \n",
      "  warn(f\"Failed to load image Python extension: {e}\")\n",
      "/Users/snehpandya/venv-ml/lib/python3.8/site-packages/torchvision/io/image.py:11: UserWarning: Failed to load image Python extension: \n",
      "  warn(f\"Failed to load image Python extension: {e}\")\n",
      "/Users/snehpandya/venv-ml/lib/python3.8/site-packages/torchvision/io/image.py:11: UserWarning: Failed to load image Python extension: \n",
      "  warn(f\"Failed to load image Python extension: {e}\")\n",
      "/Users/snehpandya/venv-ml/lib/python3.8/site-packages/torchvision/io/image.py:11: UserWarning: Failed to load image Python extension: \n",
      "  warn(f\"Failed to load image Python extension: {e}\")\n",
      "/Users/snehpandya/venv-ml/lib/python3.8/site-packages/torchvision/io/image.py:11: UserWarning: Failed to load image Python extension: \n",
      "  warn(f\"Failed to load image Python extension: {e}\")\n",
      "/Users/snehpandya/venv-ml/lib/python3.8/site-packages/torchvision/io/image.py:11: UserWarning: Failed to load image Python extension: \n",
      "  warn(f\"Failed to load image Python extension: {e}\")\n",
      "/Users/snehpandya/venv-ml/lib/python3.8/site-packages/torchvision/io/image.py:11: UserWarning: Failed to load image Python extension: \n",
      "  warn(f\"Failed to load image Python extension: {e}\")\n",
      "/Users/snehpandya/venv-ml/lib/python3.8/site-packages/torchvision/io/image.py:11: UserWarning: Failed to load image Python extension: \n",
      "  warn(f\"Failed to load image Python extension: {e}\")\n",
      "/Users/snehpandya/venv-ml/lib/python3.8/site-packages/torchvision/io/image.py:11: UserWarning: Failed to load image Python extension: \n",
      "  warn(f\"Failed to load image Python extension: {e}\")\n",
      "/Users/snehpandya/venv-ml/lib/python3.8/site-packages/torchvision/io/image.py:11: UserWarning: Failed to load image Python extension: \n",
      "  warn(f\"Failed to load image Python extension: {e}\")\n",
      "/Users/snehpandya/venv-ml/lib/python3.8/site-packages/torchvision/io/image.py:11: UserWarning: Failed to load image Python extension: \n",
      "  warn(f\"Failed to load image Python extension: {e}\")\n",
      "/Users/snehpandya/venv-ml/lib/python3.8/site-packages/torchvision/io/image.py:11: UserWarning: Failed to load image Python extension: \n",
      "  warn(f\"Failed to load image Python extension: {e}\")\n",
      "/Users/snehpandya/venv-ml/lib/python3.8/site-packages/torchvision/io/image.py:11: UserWarning: Failed to load image Python extension: \n",
      "  warn(f\"Failed to load image Python extension: {e}\")\n"
     ]
    }
   ],
   "source": [
    "trainer = pl.Trainer(max_epochs=7, logger=logger)\n",
    "trainer.fit(model, subset_dl)\n",
    "\n",
    "# with open('test.txt', 'w') as f:\n",
    "#     f.write(trainer.fit(model, full_train_dl))"
   ]
  },
  {
   "cell_type": "code",
   "execution_count": 71,
   "id": "7e72108c",
   "metadata": {},
   "outputs": [
    {
     "name": "stdout",
     "output_type": "stream",
     "text": [
      "{'loss:': tensor(1.8945)}\n"
     ]
    }
   ],
   "source": [
    "print(trainer.callback_metrics)"
   ]
  },
  {
   "cell_type": "code",
   "execution_count": 132,
   "id": "01263050",
   "metadata": {},
   "outputs": [],
   "source": [
    "with open('test.txt', 'w') as f:\n",
    "    save_path = '/Users/snehpandya/Projects/NN Scaling/notebooks/'\n",
    "    completeName = os.path.join(save_path, 'results.txt')\n",
    "    f.write(str(trainer.callback_metrics))"
   ]
  },
  {
   "cell_type": "code",
   "execution_count": 133,
   "id": "1f7857bd",
   "metadata": {},
   "outputs": [],
   "source": [
    "trainer.save_checkpoint(\"resnet50_mnist.pt\")"
   ]
  },
  {
   "cell_type": "markdown",
   "id": "a8b03bc4",
   "metadata": {},
   "source": [
    "## Testing Model"
   ]
  },
  {
   "cell_type": "code",
   "execution_count": null,
   "id": "6c15c76a",
   "metadata": {},
   "outputs": [],
   "source": [
    "def get_prediction(x, model: pl.LightningModule):\n",
    "  model.freeze() # prepares model for predicting\n",
    "  probabilities = torch.softmax(model(x), dim=1)\n",
    "  predicted_class = torch.argmax(probabilities, dim=1)\n",
    "  return predicted_class, probabilities\n",
    "\n",
    "inference_model = ResNet50.load_from_checkpoint(\"resnet50_mnist.pt\", map_location=torch.device('cpu'))"
   ]
  },
  {
   "cell_type": "code",
   "execution_count": null,
   "id": "fb86ce7b",
   "metadata": {},
   "outputs": [],
   "source": [
    "true_y, pred_y = [], []\n",
    "for batch in tqdm(iter(test_dl), total=len(test_dl)):\n",
    "  x, y = batch\n",
    "  true_y.extend(y)\n",
    "  preds, probs = get_prediction(x, inference_model)\n",
    "  pred_y.extend(preds.cpu())"
   ]
  },
  {
   "cell_type": "code",
   "execution_count": null,
   "id": "02d63c02",
   "metadata": {},
   "outputs": [],
   "source": [
    "print(classification_report(true_y, pred_y, digits=3))"
   ]
  },
  {
   "cell_type": "markdown",
   "id": "140fe8fd",
   "metadata": {},
   "source": [
    "## Unused Code"
   ]
  },
  {
   "cell_type": "code",
   "execution_count": null,
   "id": "c5687eaa",
   "metadata": {},
   "outputs": [],
   "source": [
    "# n_train = 2**(-1)*len(train_ds)\n",
    "# n_test = 2**(-1)*len(test_ds)\n",
    "    \n",
    "\n",
    "# X_train_1, X_test_1, Y_train_1, Y_test_1 = train_test_split(train_ds.data, train_ds.targets, stratify=train_ds.targets, train_size=int(n_train),random_state=1)\n",
    "# X_train_2, X_test_2, Y_train_2, Y_test_2 = train_test_split(test_ds.data, test_ds.targets, stratify=test_ds.targets, train_size=int(n_test),random_state=1)\n",
    "\n",
    "\n",
    "# subset_X = torch.cat((X_train_1, X_train_2),dim=0)\n",
    "# subset_Y = torch.cat((Y_train_1, Y_train_2),dim=0)\n",
    "# # final_subset = torch.utils.data.ConcatDataset([subset_X, subset_Y], dim=1)\n",
    "\n",
    "\n",
    "# print(subset_X.shape)\n",
    "# print(subset_Y.shape)"
   ]
  }
 ],
 "metadata": {
  "kernelspec": {
   "display_name": "venv-ml",
   "language": "python",
   "name": "venv-ml"
  },
  "language_info": {
   "codemirror_mode": {
    "name": "ipython",
    "version": 3
   },
   "file_extension": ".py",
   "mimetype": "text/x-python",
   "name": "python",
   "nbconvert_exporter": "python",
   "pygments_lexer": "ipython3",
   "version": "3.8.9"
  }
 },
 "nbformat": 4,
 "nbformat_minor": 5
}
